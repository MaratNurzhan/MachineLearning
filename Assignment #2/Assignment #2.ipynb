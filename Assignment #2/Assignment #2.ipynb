{
 "cells": [
  {
   "cell_type": "code",
   "execution_count": 22,
   "metadata": {},
   "outputs": [
    {
     "name": "stdout",
     "output_type": "stream",
     "text": [
      "k is equal to 9\n"
     ]
    }
   ],
   "source": [
    "import pandas as pd\n",
    "import numpy as nmp\n",
    "data_set=pd.read_csv('Iris.csv')\n",
    "\n",
    "data_set.groupby('Species').size()\n",
    "\n",
    "feature_parameters=['SepalLengthCm', 'SepalWidthCm', 'PetalLengthCm', 'PetalWidthCm']\n",
    "X=data_set[feature_parameters].values\n",
    "Y=data_set['Species'].values\n",
    "\n",
    "from sklearn.preprocessing import LabelEncoder\n",
    "label_encoder=LabelEncoder()\n",
    "Y=label_encoder.fit_transform(Y)\n",
    "\n",
    "from sklearn.model_selection import train_test_split\n",
    "X_training, X_testing, Y_training, Y_testing=train_test_split(X,Y, test_size=0.2, random_state=1)\n",
    "\n",
    "\n",
    "from sklearn.neighbors import KNeighborsClassifier\n",
    "from sklearn.model_selection import cross_val_score\n",
    "from sklearn.metrics import confusion_matrix, accuracy_score\n",
    "\n",
    "\n",
    "classifier = KNeighborsClassifier(n_neighbors=3)\n",
    "\n",
    "classifier.fit(X_training, Y_training)\n",
    "\n",
    "Y_predict=classifier.predict(X_testing)\n",
    "\n",
    "#Y_predict\n",
    "#Y_testing\n",
    "\n",
    "conf_mtx=confusion_matrix(Y_testing, Y_predict)\n",
    "conf_mtx\n",
    "\n",
    "accuracy=accuracy_score(Y_testing, Y_predict)*100\n",
    "#print('Model accuracy is '+str(round(accuracy,2))+' %')\n",
    "\n",
    "k_list=list(range(1,50,2))\n",
    "cross_v_scores=[]\n",
    "\n",
    "for k in k_list:\n",
    "    kNN=KNeighborsClassifier(n_neighbors=k)\n",
    "    scores=cross_val_score(kNN, X_training, Y_training, cv=10, scoring='accuracy')\n",
    "    #print('score'+ str(scores)+'mean score'+str(scores.mean()))\n",
    "    cross_v_scores.append(scores.mean())\n",
    "    #print(cross_v_scores)\n",
    "    \n",
    "#Mean Squared Error\n",
    "MSE=[1-a for a in cross_v_scores]\n",
    "\n",
    "best_kNN=k_list[MSE.index(min(MSE))]\n",
    "print('k is equal to ' + str(best_kNN))"
   ]
  },
  {
   "cell_type": "code",
   "execution_count": null,
   "metadata": {},
   "outputs": [],
   "source": []
  },
  {
   "cell_type": "code",
   "execution_count": null,
   "metadata": {},
   "outputs": [],
   "source": []
  }
 ],
 "metadata": {
  "kernelspec": {
   "display_name": "Python 3",
   "language": "python",
   "name": "python3"
  },
  "language_info": {
   "codemirror_mode": {
    "name": "ipython",
    "version": 3
   },
   "file_extension": ".py",
   "mimetype": "text/x-python",
   "name": "python",
   "nbconvert_exporter": "python",
   "pygments_lexer": "ipython3",
   "version": "3.8.3"
  }
 },
 "nbformat": 4,
 "nbformat_minor": 4
}
