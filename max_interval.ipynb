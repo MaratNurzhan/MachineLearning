{
 "cells": [
  {
   "cell_type": "code",
   "execution_count": 1,
   "metadata": {},
   "outputs": [],
   "source": [
    "def max_interval(N):\n",
    "    binary_num=bin(N)[3:]\n",
    "    interval=list()\n",
    "    cnt=0\n",
    "    \n",
    "    for digit in binary_num:\n",
    "        if digit=='0':\n",
    "            cnt=cnt+1\n",
    "        else: \n",
    "            interval.append(cnt)\n",
    "            cnt=0\n",
    "   \n",
    "\n",
    "    print(max(interval))"
   ]
  },
  {
   "cell_type": "code",
   "execution_count": 2,
   "metadata": {},
   "outputs": [
    {
     "name": "stdout",
     "output_type": "stream",
     "text": [
      "1041\n",
      "5\n"
     ]
    }
   ],
   "source": [
    "a=int(input())\n",
    "max_interval(a)"
   ]
  },
  {
   "cell_type": "code",
   "execution_count": null,
   "metadata": {},
   "outputs": [],
   "source": []
  }
 ],
 "metadata": {
  "kernelspec": {
   "display_name": "Python 3",
   "language": "python",
   "name": "python3"
  },
  "language_info": {
   "codemirror_mode": {
    "name": "ipython",
    "version": 3
   },
   "file_extension": ".py",
   "mimetype": "text/x-python",
   "name": "python",
   "nbconvert_exporter": "python",
   "pygments_lexer": "ipython3",
   "version": "3.8.3"
  }
 },
 "nbformat": 4,
 "nbformat_minor": 4
}
