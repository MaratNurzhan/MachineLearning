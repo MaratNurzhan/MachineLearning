{
 "cells": [
  {
   "cell_type": "code",
   "execution_count": 2,
   "metadata": {},
   "outputs": [
    {
     "name": "stdout",
     "output_type": "stream",
     "text": [
      "5\n",
      "4\n",
      "3\n",
      "2\n",
      "1\n",
      "5\n",
      "0\n",
      "1\n",
      "0\n",
      "0\n",
      "0\n",
      "solution is 2\n"
     ]
    }
   ],
   "source": [
    "def solution(A,B):\n",
    "    cnt = 0\n",
    "    q=[]\n",
    "    for i in range(len(A)):\n",
    "        if B[i] == 0:\n",
    "            while len(q) > 0 and A[i] > q[len(q) - 1]:\n",
    "                q.pop()\n",
    "            if len(q) == 0:\n",
    "                cnt+=1\n",
    "\n",
    "        else:\n",
    "            q.append(A[i])\n",
    "    \n",
    "  \n",
    "    return len(q)+cnt;\n",
    "\n",
    "\n",
    "N=int(input())\n",
    "A=[]\n",
    "B=[]\n",
    "\n",
    "for i in range(N):\n",
    "    i=int(input())\n",
    "    A.append(i)\n",
    "\n",
    "for i in range(N):\n",
    "    i=int(input())\n",
    "    B.append(i)\n",
    "    \n",
    "print(\"solution is \"+str(solution(A,B)))"
   ]
  },
  {
   "cell_type": "code",
   "execution_count": null,
   "metadata": {},
   "outputs": [],
   "source": []
  },
  {
   "cell_type": "code",
   "execution_count": null,
   "metadata": {},
   "outputs": [],
   "source": []
  },
  {
   "cell_type": "code",
   "execution_count": null,
   "metadata": {},
   "outputs": [],
   "source": []
  }
 ],
 "metadata": {
  "kernelspec": {
   "display_name": "Python 3",
   "language": "python",
   "name": "python3"
  },
  "language_info": {
   "codemirror_mode": {
    "name": "ipython",
    "version": 3
   },
   "file_extension": ".py",
   "mimetype": "text/x-python",
   "name": "python",
   "nbconvert_exporter": "python",
   "pygments_lexer": "ipython3",
   "version": "3.8.3"
  }
 },
 "nbformat": 4,
 "nbformat_minor": 4
}
