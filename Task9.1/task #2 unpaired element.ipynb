{
 "cells": [
  {
   "cell_type": "code",
   "execution_count": 1,
   "metadata": {},
   "outputs": [
    {
     "name": "stdout",
     "output_type": "stream",
     "text": [
      "7\n",
      "9\n",
      "3\n",
      "9\n",
      "3\n",
      "9\n",
      "7\n",
      "9\n",
      "solution is 7\n"
     ]
    }
   ],
   "source": [
    "def solution(A):\n",
    "    d=dict()\n",
    "    cnt_arr=[]\n",
    "    cnt=0\n",
    "    for i in range(len(A)):\n",
    "        if A[i] in d:\n",
    "            cnt+=1\n",
    "        elif A[i] not in d:\n",
    "            d[A[i]]=cnt\n",
    "            cnt=0\n",
    "    \n",
    "    for key in d:\n",
    "        if(d[key]!=0):\n",
    "            res_value=key\n",
    "    \n",
    "    return res_value\n",
    "\n",
    "\n",
    "A=[]\n",
    "N=int(input())\n",
    "for i in range(N):\n",
    "    i=int(input())\n",
    "    A.append(i)\n",
    "    \n",
    "print(\"solution is \"+str(solution(A)))\n",
    "    "
   ]
  },
  {
   "cell_type": "code",
   "execution_count": null,
   "metadata": {},
   "outputs": [],
   "source": []
  },
  {
   "cell_type": "code",
   "execution_count": null,
   "metadata": {},
   "outputs": [],
   "source": []
  }
 ],
 "metadata": {
  "kernelspec": {
   "display_name": "Python 3",
   "language": "python",
   "name": "python3"
  },
  "language_info": {
   "codemirror_mode": {
    "name": "ipython",
    "version": 3
   },
   "file_extension": ".py",
   "mimetype": "text/x-python",
   "name": "python",
   "nbconvert_exporter": "python",
   "pygments_lexer": "ipython3",
   "version": "3.8.3"
  }
 },
 "nbformat": 4,
 "nbformat_minor": 4
}
