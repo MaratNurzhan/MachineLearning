{
 "cells": [
  {
   "cell_type": "code",
   "execution_count": 9,
   "metadata": {},
   "outputs": [
    {
     "name": "stdout",
     "output_type": "stream",
     "text": [
      "6\n",
      "1\n",
      "5\n",
      "2\n",
      "1\n",
      "4\n",
      "0\n",
      "solution is 11\n"
     ]
    }
   ],
   "source": [
    "import math\n",
    "\n",
    "class Solution:\n",
    "    \n",
    "    def __init__(self, N, A):\n",
    "        self.N=N\n",
    "        self.A=[A[a] for a in range(len(A))]\n",
    "        \n",
    "        \n",
    "    \n",
    "        \n",
    "    def intersect_cnt(self):\n",
    "        cnt=0\n",
    "        for i in range(len(A)):\n",
    "            for j in range(i+1,len(A)):\n",
    "                if abs(j-i) <= A[i]+A[j] and A[j]!=A[i]:\n",
    "                    cnt+=1\n",
    "                elif abs(j-i)==0 and A[j]!=A[i]:\n",
    "                    cnt+=1\n",
    "                elif abs(j-i)==A[j] or abs(j-i)==A[i] and A[j]!=A[i]:\n",
    "                    cnt+=1\n",
    "                elif abs(j-i)==abs(A[j]-A[i]) or abs(j-i)==abs(A[j]+A[i]) and A[j]!=A[i]:\n",
    "                    cnt+=1\n",
    "             \n",
    "        if(cnt<10000000):\n",
    "            return cnt\n",
    "        else:\n",
    "            return -1\n",
    "    \n",
    "\n",
    "    \n",
    "A=[] \n",
    "N=int(input())\n",
    "\n",
    "for i in range(N):\n",
    "    r = int(input())\n",
    "    A.append(r)\n",
    "    \n",
    "    \n",
    "solution=Solution(N, A)\n",
    "\n",
    "\n",
    "    \n",
    "print(\"solution is \"+str(solution.intersect_cnt()))\n",
    "    \n",
    "                \n",
    "        \n",
    "    \n",
    "        \n",
    "        \n",
    "            \n",
    "    \n",
    "    "
   ]
  },
  {
   "cell_type": "code",
   "execution_count": null,
   "metadata": {},
   "outputs": [],
   "source": []
  },
  {
   "cell_type": "code",
   "execution_count": null,
   "metadata": {},
   "outputs": [],
   "source": []
  },
  {
   "cell_type": "code",
   "execution_count": null,
   "metadata": {},
   "outputs": [],
   "source": []
  }
 ],
 "metadata": {
  "kernelspec": {
   "display_name": "Python 3",
   "language": "python",
   "name": "python3"
  },
  "language_info": {
   "codemirror_mode": {
    "name": "ipython",
    "version": 3
   },
   "file_extension": ".py",
   "mimetype": "text/x-python",
   "name": "python",
   "nbconvert_exporter": "python",
   "pygments_lexer": "ipython3",
   "version": "3.8.3"
  }
 },
 "nbformat": 4,
 "nbformat_minor": 4
}
