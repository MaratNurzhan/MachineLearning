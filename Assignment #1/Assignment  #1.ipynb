{
 "cells": [
  {
   "cell_type": "code",
   "execution_count": null,
   "metadata": {},
   "outputs": [],
   "source": []
  },
  {
   "cell_type": "code",
   "execution_count": 4,
   "metadata": {},
   "outputs": [
    {
     "data": {
      "text/plain": [
       "'1.0.5'"
      ]
     },
     "execution_count": 4,
     "metadata": {},
     "output_type": "execute_result"
    }
   ],
   "source": [
    "pd.__version__"
   ]
  },
  {
   "cell_type": "code",
   "execution_count": 7,
   "metadata": {},
   "outputs": [
    {
     "name": "stdout",
     "output_type": "stream",
     "text": [
      "[0.95275444 0.86447381 0.89517152 0.77708871 0.94023857 0.73273876\n",
      " 0.92587507 0.88427249 0.90550888 0.83281654 0.88047714 0.83964325\n",
      " 0.87035926 0.87401184 0.94427218 0.84063619 0.9566445  0.94427218\n",
      " 0.88854436 0.84275727 0.82503645]\n"
     ]
    },
    {
     "data": {
      "text/plain": [
       "array([6, 4], dtype=int64)"
      ]
     },
     "execution_count": 7,
     "metadata": {},
     "output_type": "execute_result"
    }
   ],
   "source": [
    "#Task #1\n",
    "import pandas as pd\n",
    "from pandas import *\n",
    "import scipy.spatial as spatial\n",
    "import re\n",
    "from numpy import zeros\n",
    "\n",
    "import numpy as nmp\n",
    "#from nltk.tokenize import sent_tokenize\n",
    "\n",
    "\n",
    "\n",
    "def cosine_distance(a,b):\n",
    "    #return 1-scipy.spatial.distance.cosine(a,b)\n",
    "    return 1-a@b/(nmp.sqrt(a@a)*nmp.sqrt(b@b))\n",
    "\n",
    "txt = list(open(\"sentences.txt\", \"r\"))\n",
    "\n",
    "arr=[]\n",
    "\n",
    "\n",
    "for l in txt:\n",
    "    l=l.lower().strip()\n",
    "    arr.append(l)\n",
    "    \n",
    "\n",
    "length = range(len(arr))                     \n",
    "for i in length:                               \n",
    "    arr[i] = re.split('[^a-z]', arr[i])    \n",
    "    for j in range(arr[i].count('')):        \n",
    "        arr[i].remove('')\n",
    "\n",
    "\n",
    "new_arr=[]\n",
    "cnt=0\n",
    "d=dict()\n",
    "for i in arr:                               \n",
    "    for j in i:\n",
    "        if j not in new_arr:\n",
    "            new_arr.append(j)\n",
    "\n",
    "            \n",
    "for i in new_arr:                           \n",
    "    d[i] = cnt\n",
    "    cnt +=1\n",
    "\n",
    "\n",
    "occ_matrix=nmp.zeros((len(arr),len(new_arr)))\n",
    "\n",
    "d_list=list(d)   \n",
    "\n",
    "#gg=0\n",
    "for i in arr:\n",
    "    cnt=0\n",
    "    for j in d_list:\n",
    "        #gg+=1\n",
    "        cnt=i.count(j)\n",
    "        occ_matrix[arr.index(i)][d_list.index(j)]=cnt\n",
    "\n",
    "#print(DataFrame(occ_matrix))\n",
    "\n",
    "distances=nmp.array([cosine_distance(cnt_matrix[0],occ_matrix[i]) for i in range(1, occ_matrix.shape[0])])\n",
    "\n",
    "print(distances)\n",
    "\n",
    "nmp.argsort(distances)[:2] + 1\n",
    "\n",
    "\n",
    "\n",
    "#Task #2\n",
    "#cosine distance is is not a proper metric, because it does not always satisfy the the requirements of triangle ineqality.\n",
    "#Here is an example of condition when the requirements does not hold for inequality\n",
    "# d_cosine(x1,x3)<=d_cosine(x1,x2)+d_cosine(x2,x3); x1=(1,0), x2=(sqrt(2)/2,sqrt(2)/2), x3=(0,1)\n",
    "#d_cosine(x1,x3)=1-(x1*x3)/(|x1|*|x3|)\n",
    "#1-(x1*x3)/(|x1|*|x3|)<=1-(x1*x2)/(|x1|*|x2|)+1-(x2*x3)/(|x2|*|x3|)\n",
    "#1-(x1*x3)/(|x1|*|x3|)>2-(x1*x2)/(|x1|*|x2|)-(x2*x3)/(|x2|*|x3|)\n",
    "#1-0/sqrt(1)*sqrt(1)>2-sqrt(2)/2-sqrt(2)/2\n",
    "#1>2-sqrt(2)\n",
    "#1<1.41\n"
   ]
  },
  {
   "cell_type": "code",
   "execution_count": null,
   "metadata": {},
   "outputs": [],
   "source": []
  },
  {
   "cell_type": "code",
   "execution_count": null,
   "metadata": {},
   "outputs": [],
   "source": []
  },
  {
   "cell_type": "code",
   "execution_count": null,
   "metadata": {},
   "outputs": [],
   "source": []
  },
  {
   "cell_type": "code",
   "execution_count": null,
   "metadata": {},
   "outputs": [],
   "source": []
  }
 ],
 "metadata": {
  "kernelspec": {
   "display_name": "Python 3",
   "language": "python",
   "name": "python3"
  },
  "language_info": {
   "codemirror_mode": {
    "name": "ipython",
    "version": 3
   },
   "file_extension": ".py",
   "mimetype": "text/x-python",
   "name": "python",
   "nbconvert_exporter": "python",
   "pygments_lexer": "ipython3",
   "version": "3.8.3"
  }
 },
 "nbformat": 4,
 "nbformat_minor": 4
}
